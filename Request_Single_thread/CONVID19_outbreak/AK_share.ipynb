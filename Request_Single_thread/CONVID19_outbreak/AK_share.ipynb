{
 "cells": [
  {
   "cell_type": "markdown",
   "metadata": {},
   "source": [
    "# 数据说明（新冠肺炎数据）"
   ]
  },
  {
   "cell_type": "code",
   "execution_count": 9,
   "metadata": {},
   "outputs": [
    {
     "name": "stdout",
     "output_type": "stream",
     "text": [
      "数据更新时间: 2020-05-02 08:33:53\n",
      "                                                info\n",
      "0             数据来源：国家卫健委、各省市区卫健委、各省市区政府、港澳台官方渠道公开数据。\n",
      "1   数据更新时间：实时更新全国、各省市区数据，因核实计算需要，与官方的发布时间相比，将有一定时...\n",
      "2   实时数据统计原则：① 每日上午优先将全国各类数据与国家卫健委公布数据对齐（此时各省市区数据...\n",
      "3           疫情趋势图：全国数据使用国家卫健委公布的截至前一日24:00数据，每日更新一次。\n",
      "4    网易新闻全力以赴提供权威、准确、及时的疫情数据，如有任何疑问，欢迎通过网易新闻客户端留言反馈。\n"
     ]
    }
   ],
   "source": [
    "import sys\n",
    "sys.path.append('D:\\Anaconda3\\envs\\request\\Lib\\site-packages')\n",
    "\n",
    "import akshare as ak\n",
    "covid_19_163_df = ak.covid_19_163(indicator=\"数据说明\")\n",
    "print(covid_19_163_df)"
   ]
  },
  {
   "cell_type": "markdown",
   "metadata": {},
   "source": [
    "# 中国实时数据"
   ]
  },
  {
   "cell_type": "code",
   "execution_count": 10,
   "metadata": {},
   "outputs": [
    {
     "name": "stdout",
     "output_type": "stream",
     "text": [
      "数据更新时间: 2020-05-02 08:33:53\n",
      "               today    total  extData\n",
      "confirm          3.0  84388.0      NaN\n",
      "suspect          2.0     11.0      NaN\n",
      "heal            60.0  78905.0      NaN\n",
      "dead             0.0   4643.0      NaN\n",
      "severe           0.0     37.0      NaN\n",
      "storeConfirm   -57.0      NaN      NaN\n",
      "input            1.0   1671.0      NaN\n",
      "noSymptom        NaN      NaN    989.0\n",
      "incrNoSymptom    NaN      NaN     20.0\n"
     ]
    }
   ],
   "source": [
    "import akshare as ak\n",
    "covid_19_163_df = ak.covid_19_163(indicator=\"中国实时数据\")\n",
    "print(covid_19_163_df)"
   ]
  },
  {
   "cell_type": "markdown",
   "metadata": {},
   "source": [
    "# 中国历史数据"
   ]
  },
  {
   "cell_type": "code",
   "execution_count": 11,
   "metadata": {},
   "outputs": [
    {
     "name": "stdout",
     "output_type": "stream",
     "text": [
      "数据更新时间: 2020-05-02 08:33:53\n",
      "            confirm  suspect  heal  dead  severe storeConfirm  input\n",
      "2020-01-20      291       27    25     6       0         None    NaN\n",
      "2020-01-21      149       26   -25     3       0         None    NaN\n",
      "2020-01-22      131      257    28     8       0         None    NaN\n",
      "2020-01-23      259      680     6     8       0         None    NaN\n",
      "2020-01-24      444     1118     4    16       0         None    NaN\n",
      "...             ...      ...   ...   ...     ...          ...    ...\n",
      "2020-04-27        0        1     0     0       0         None    3.0\n",
      "2020-04-28       22        2    23     0       0         None   21.0\n",
      "2020-04-29        0        3     0     0       0         None    4.0\n",
      "2020-04-30        0        3     0     0       0         None    6.0\n",
      "2020-05-01        0        2     0     0       0         None    1.0\n",
      "\n",
      "[103 rows x 7 columns]\n"
     ]
    }
   ],
   "source": [
    "import akshare as ak\n",
    "covid_19_163_df = ak.covid_19_163(indicator=\"中国历史时点数据\")\n",
    "print(covid_19_163_df)"
   ]
  },
  {
   "cell_type": "code",
   "execution_count": 12,
   "metadata": {},
   "outputs": [
    {
     "name": "stdout",
     "output_type": "stream",
     "text": [
      "数据更新时间: 2020-05-02 08:33:53\n",
      "            confirm  suspect   heal  dead  severe  input\n",
      "2020-01-20      291       54     25     6       0      0\n",
      "2020-01-21      440       37     25     9     102      0\n",
      "2020-01-22      571      393     28    17      95      0\n",
      "2020-01-23      830     1072     34    25     177      0\n",
      "2020-01-24     1287     1965     38    41     237      0\n",
      "...             ...      ...    ...   ...     ...    ...\n",
      "2020-04-27    82836        9  77555  4633      50   1639\n",
      "2020-04-28    82858       10  77578  4633      22   1660\n",
      "2020-04-29    82862       10  77610  4633      41   1664\n",
      "2020-04-30    82874        9  77642  4633      38   1670\n",
      "2020-05-01    82875       11  77685  4633      37   1671\n",
      "\n",
      "[103 rows x 6 columns]\n"
     ]
    }
   ],
   "source": [
    "import akshare as ak\n",
    "covid_19_163_df = ak.covid_19_163(indicator=\"中国历史累计数据\")\n",
    "print(covid_19_163_df)"
   ]
  },
  {
   "cell_type": "markdown",
   "metadata": {},
   "source": [
    "# 世界历史数据"
   ]
  },
  {
   "cell_type": "code",
   "execution_count": 16,
   "metadata": {},
   "outputs": [
    {
     "name": "stdout",
     "output_type": "stream",
     "text": [
      "数据更新时间: 2020-05-02 08:33:53\n",
      "      confirm  suspect  heal  dead  severe storeConfirm  input\n",
      "突尼斯       4.0      0.0  11.0   0.0     0.0         None    NaN\n",
      "塞尔维亚      NaN      NaN   NaN   NaN     NaN         None    NaN\n",
      "中国        3.0      2.0  60.0   0.0     0.0         None    1.0\n",
      "日本        NaN      NaN   NaN   NaN     NaN         None    NaN\n",
      "泰国        NaN      NaN   NaN   NaN     NaN         None    NaN\n"
     ]
    }
   ],
   "source": [
    "import akshare as ak\n",
    "covid_19_163_df = ak.covid_19_163(indicator=\"世界历史时点数据\")\n",
    "print(covid_19_163_df.head())"
   ]
  },
  {
   "cell_type": "code",
   "execution_count": 15,
   "metadata": {},
   "outputs": [
    {
     "name": "stdout",
     "output_type": "stream",
     "text": [
      "数据更新时间: 2020-05-02 08:33:53\n",
      "      confirm  suspect   heal  dead  severe   input\n",
      "突尼斯       998        0    316    41       0     NaN\n",
      "塞尔维亚     9205        0   1397   185       0     NaN\n",
      "中国      84388       11  78905  4643      37  1671.0\n",
      "日本      15283        0   4632   494       0     NaN\n",
      "泰国       2960        0   2719    54       0     NaN\n"
     ]
    }
   ],
   "source": [
    "import akshare as ak\n",
    "covid_19_163_df = ak.covid_19_163(indicator=\"世界历史累计数据\")\n",
    "print(covid_19_163_df.head())"
   ]
  },
  {
   "cell_type": "code",
   "execution_count": 17,
   "metadata": {},
   "outputs": [
    {
     "name": "stdout",
     "output_type": "stream",
     "text": [
      "数据更新时间: 2020-05-02 08:33:53\n",
      "       confirm  suspect   heal  dead  severe   input\n",
      "突尼斯        998        0    316    41       0     NaN\n",
      "塞尔维亚      9205        0   1397   185       0     NaN\n",
      "中国       84388       11  78905  4643      37  1671.0\n",
      "湖北       68128        0  63616  4512       0     0.0\n",
      "武汉       50332        0  46463  3869       0     NaN\n",
      "...        ...      ...    ...   ...     ...     ...\n",
      "格恩西岛       247        0    191    13       0     NaN\n",
      "罗马尼亚     12567        0   4328   726       0     NaN\n",
      "阿曼        2447        0    495    11       0     NaN\n",
      "列支敦士登       82        0     55     1       0     NaN\n",
      "马达加斯加      128        0     82     0       0     NaN\n",
      "\n",
      "[912 rows x 6 columns]\n"
     ]
    }
   ],
   "source": [
    "import akshare as ak\n",
    "covid_19_163_df = ak.covid_19_163(indicator=\"全球所有国家及地区累计数据\")\n",
    "print(covid_19_163_df)"
   ]
  },
  {
   "cell_type": "code",
   "execution_count": null,
   "metadata": {},
   "outputs": [],
   "source": []
  }
 ],
 "metadata": {
  "kernelspec": {
   "display_name": "request",
   "language": "python",
   "name": "request"
  },
  "language_info": {
   "codemirror_mode": {
    "name": "ipython",
    "version": 3
   },
   "file_extension": ".py",
   "mimetype": "text/x-python",
   "name": "python",
   "nbconvert_exporter": "python",
   "pygments_lexer": "ipython3",
   "version": "3.7.1"
  },
  "toc": {
   "base_numbering": 1,
   "nav_menu": {},
   "number_sections": true,
   "sideBar": true,
   "skip_h1_title": false,
   "title_cell": "Table of Contents",
   "title_sidebar": "Contents",
   "toc_cell": false,
   "toc_position": {},
   "toc_section_display": true,
   "toc_window_display": true
  }
 },
 "nbformat": 4,
 "nbformat_minor": 2
}
