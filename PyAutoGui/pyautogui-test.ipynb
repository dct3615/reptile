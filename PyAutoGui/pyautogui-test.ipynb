{
 "cells": [
  {
   "cell_type": "markdown",
   "metadata": {},
   "source": [
    "# 屏幕及鼠标\n",
    "## 暂停和自动防故障功能"
   ]
  },
  {
   "cell_type": "code",
   "execution_count": 2,
   "metadata": {},
   "outputs": [],
   "source": [
    "import pyautogui\n",
    "pyautogui.PAUSE = 1 # 每次pyautogui调用执行动作之前暂停1秒\n",
    "pyautogui.FALSE = True # 启动自动防故障功能"
   ]
  },
  {
   "cell_type": "markdown",
   "metadata": {},
   "source": [
    "## 控制鼠标移动 \n",
    "分辨率为1920*1080的情况下  \n",
    "左上角的坐标为（0,0）右下角的坐标为（1919,1079）"
   ]
  },
  {
   "cell_type": "markdown",
   "metadata": {},
   "source": [
    "## 移动鼠标\n",
    "将鼠标移动到指定的位置"
   ]
  },
  {
   "cell_type": "code",
   "execution_count": 4,
   "metadata": {},
   "outputs": [],
   "source": [
    "for i in range(3):\n",
    "    pyautogui.moveTo(100,100,duration=0.25)\n",
    "    pyautogui.moveTo(200,100,duration=0.25)\n",
    "    pyautogui.moveTo(200,200,duration=0.25)\n",
    "    pyautogui.moveTo(100,200,duration=0.25)"
   ]
  },
  {
   "cell_type": "markdown",
   "metadata": {},
   "source": [
    "## 获取鼠标的位置"
   ]
  },
  {
   "cell_type": "code",
   "execution_count": 5,
   "metadata": {},
   "outputs": [
    {
     "data": {
      "text/plain": [
       "Point(x=901, y=572)"
      ]
     },
     "execution_count": 5,
     "metadata": {},
     "output_type": "execute_result"
    }
   ],
   "source": [
    "pyautogui.position()"
   ]
  },
  {
   "cell_type": "code",
   "execution_count": 9,
   "metadata": {},
   "outputs": [
    {
     "data": {
      "text/plain": [
       "Point(x=0, y=0)"
      ]
     },
     "execution_count": 9,
     "metadata": {},
     "output_type": "execute_result"
    }
   ],
   "source": [
    "pyautogui.position()"
   ]
  },
  {
   "cell_type": "markdown",
   "metadata": {},
   "source": [
    "## 动态获取鼠标的位置"
   ]
  },
  {
   "cell_type": "code",
   "execution_count": 27,
   "metadata": {},
   "outputs": [
    {
     "name": "stdout",
     "output_type": "stream",
     "text": [
      "Press Ctrl + C to quit\n"
     ]
    }
   ],
   "source": [
    "import pyautogui\n",
    "import time\n",
    "print('Press Ctrl + C to quit')"
   ]
  },
  {
   "cell_type": "code",
   "execution_count": 25,
   "metadata": {},
   "outputs": [],
   "source": [
    "def get_mouse_position():\n",
    "    return pyautogui.position()"
   ]
  },
  {
   "cell_type": "code",
   "execution_count": 29,
   "metadata": {},
   "outputs": [
    {
     "name": "stdout",
     "output_type": "stream",
     "text": [
      "920 523\n",
      "916 529\n",
      "1021 441\n",
      "1000 464\n",
      "1032 501\n",
      "1032 501\n",
      "1008 509\n",
      "860 504\n",
      "722 288\n",
      "809 218\n",
      "\n",
      "Done\n"
     ]
    }
   ],
   "source": [
    "try :\n",
    "    while True:\n",
    "        x,y = get_mouse_position()\n",
    "        print(x,y)\n",
    "        time.sleep(1)\n",
    "except KeyboardInterrupt:\n",
    "    print('\\nDone')"
   ]
  },
  {
   "cell_type": "markdown",
   "metadata": {},
   "source": [
    "## 控制鼠标交互（点击）\n",
    "默认左击鼠标所在的位置，可以指定位置  \n",
    "- pyautogui.click(10,5,button = 'left')  （middle）  （right）  \n",
    "- pyautogui.mouseDown()只是按下鼠标左键\n",
    "- pyautogui.mouseUp()只是释放鼠标左键\n",
    "- pyautogui.doubleClick()双击鼠标左键\n",
    "- pyautogui.middleClick()双击鼠标中键\n",
    "- pyautogui.rightClick()双击鼠标右键"
   ]
  },
  {
   "cell_type": "code",
   "execution_count": 30,
   "metadata": {},
   "outputs": [],
   "source": [
    "import pyautogui\n",
    "pyautogui.click(10,5)"
   ]
  },
  {
   "cell_type": "markdown",
   "metadata": {},
   "source": [
    "## 拖动鼠标\n",
    "- pyautogui.dragTo() 将鼠标拖动到一个新的位置  \n",
    "- pyautogui.dragRel() 相对当前位置的位置"
   ]
  },
  {
   "cell_type": "code",
   "execution_count": 35,
   "metadata": {},
   "outputs": [],
   "source": [
    "import pyautogui,time\n",
    "time.sleep(7)\n",
    "pyautogui.mouseDown()\n",
    "distance = 200\n",
    "while distance > 0:\n",
    "    pyautogui.dragRel(distance, 0, duration=0.2)# move right\n",
    "    distance = distance - 5\n",
    "    pyautogui.dragRel(0, distance, duration=0.2)# move down\n",
    "    distance = distance - 5\n",
    "    pyautogui.dragRel(-distance, 0, duration=0.2)# move left\n",
    "    distance = distance - 5\n",
    "    pyautogui.dragRel(0, -distance, duration=0.2)# move up"
   ]
  },
  {
   "cell_type": "markdown",
   "metadata": {},
   "source": [
    "## 滚动鼠标\n",
    "根据自己的电脑选择合适的值"
   ]
  },
  {
   "cell_type": "code",
   "execution_count": 43,
   "metadata": {},
   "outputs": [],
   "source": [
    "import pyautogui,time\n",
    "\n",
    "time.sleep(5)\n",
    "pyautogui.scroll(500)"
   ]
  },
  {
   "cell_type": "markdown",
   "metadata": {},
   "source": [
    "# 处理屏幕\n",
    "## 获取屏幕快照"
   ]
  },
  {
   "cell_type": "code",
   "execution_count": 49,
   "metadata": {},
   "outputs": [
    {
     "name": "stdout",
     "output_type": "stream",
     "text": [
      "(235, 235, 235)\n",
      "(26, 221, 166)\n"
     ]
    }
   ],
   "source": [
    "import pyautogui\n",
    "\n",
    "im = pyautogui.screenshot()\n",
    "print(im.getpixel((0,10))) # 获取指定位置的颜色\n",
    "print(im.getpixel((30,10)))"
   ]
  },
  {
   "cell_type": "markdown",
   "metadata": {},
   "source": [
    "## 分析屏幕快照"
   ]
  },
  {
   "cell_type": "code",
   "execution_count": 55,
   "metadata": {},
   "outputs": [
    {
     "name": "stdout",
     "output_type": "stream",
     "text": [
      "(235, 235, 235)\n",
      "True\n",
      "False\n"
     ]
    }
   ],
   "source": [
    "import pyautogui\n",
    "\n",
    "im = pyautogui.screenshot()\n",
    "print(im.getpixel((50,10))) # 获取指定位置的颜色\n",
    "\n",
    "print(pyautogui.pixelMatchesColor(50,10,(235,235,235)))\n",
    "print(pyautogui.pixelMatchesColor(50,10,(235,255,235))) # 指定位置的像素改变，返回False"
   ]
  },
  {
   "cell_type": "code",
   "execution_count": null,
   "metadata": {},
   "outputs": [],
   "source": []
  },
  {
   "cell_type": "code",
   "execution_count": null,
   "metadata": {},
   "outputs": [],
   "source": []
  },
  {
   "cell_type": "code",
   "execution_count": null,
   "metadata": {},
   "outputs": [],
   "source": []
  },
  {
   "cell_type": "code",
   "execution_count": null,
   "metadata": {},
   "outputs": [],
   "source": []
  },
  {
   "cell_type": "code",
   "execution_count": null,
   "metadata": {},
   "outputs": [],
   "source": []
  },
  {
   "cell_type": "code",
   "execution_count": null,
   "metadata": {},
   "outputs": [],
   "source": []
  },
  {
   "cell_type": "code",
   "execution_count": null,
   "metadata": {},
   "outputs": [],
   "source": []
  },
  {
   "cell_type": "code",
   "execution_count": null,
   "metadata": {},
   "outputs": [],
   "source": []
  },
  {
   "cell_type": "code",
   "execution_count": null,
   "metadata": {},
   "outputs": [],
   "source": []
  },
  {
   "cell_type": "code",
   "execution_count": null,
   "metadata": {},
   "outputs": [],
   "source": []
  },
  {
   "cell_type": "code",
   "execution_count": null,
   "metadata": {},
   "outputs": [],
   "source": []
  },
  {
   "cell_type": "code",
   "execution_count": null,
   "metadata": {},
   "outputs": [],
   "source": []
  }
 ],
 "metadata": {
  "kernelspec": {
   "display_name": "Python 3",
   "language": "python",
   "name": "python3"
  },
  "language_info": {
   "codemirror_mode": {
    "name": "ipython",
    "version": 3
   },
   "file_extension": ".py",
   "mimetype": "text/x-python",
   "name": "python",
   "nbconvert_exporter": "python",
   "pygments_lexer": "ipython3",
   "version": "3.7.4"
  }
 },
 "nbformat": 4,
 "nbformat_minor": 2
}
