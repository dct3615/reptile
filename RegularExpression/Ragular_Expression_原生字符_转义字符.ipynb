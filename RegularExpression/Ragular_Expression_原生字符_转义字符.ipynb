{
 "cells": [
  {
   "cell_type": "markdown",
   "metadata": {},
   "source": [
    "# 转义字符\\ 与原生字符r"
   ]
  },
  {
   "cell_type": "code",
   "execution_count": 3,
   "metadata": {},
   "outputs": [
    {
     "name": "stdout",
     "output_type": "stream",
     "text": [
      "$45\n"
     ]
    }
   ],
   "source": [
    "import re\n",
    "\n",
    "text = \"apple  price is $45, orange price is $23\"\n",
    "ret = re.search('\\$\\d+',text)\n",
    "print(ret.group())"
   ]
  },
  {
   "cell_type": "code",
   "execution_count": 5,
   "metadata": {},
   "outputs": [
    {
     "name": "stdout",
     "output_type": "stream",
     "text": [
      "\\n\n",
      "\n"
     ]
    }
   ],
   "source": [
    "import re\n",
    "\n",
    "# text = \"\\\\n\"\n",
    "text = r'\\n' # 原生字符\n",
    "print(text) # python 自带转义\n",
    "\n",
    "ret = re.search('',text)\n",
    "print(ret.group())"
   ]
  },
  {
   "cell_type": "markdown",
   "metadata": {},
   "source": [
    "在正则表达式中，\\是专门用来转义的。在Python中\\也是用来转义的。因此如果想要普通的字符串中匹配出\\，那么需要给出四个\\。"
   ]
  },
  {
   "cell_type": "code",
   "execution_count": 7,
   "metadata": {},
   "outputs": [
    {
     "name": "stdout",
     "output_type": "stream",
     "text": [
      "\\c\n"
     ]
    }
   ],
   "source": [
    "import re\n",
    "\n",
    "text = \"apple \\c\"\n",
    "ret = re.search('\\\\\\\\c',text)\n",
    "print(ret.group())"
   ]
  },
  {
   "cell_type": "code",
   "execution_count": 12,
   "metadata": {},
   "outputs": [
    {
     "name": "stdout",
     "output_type": "stream",
     "text": [
      "\\n\n"
     ]
    }
   ],
   "source": [
    "import re\n",
    "\n",
    "text = \"\\\\n\"\n",
    "ret = re.search('\\\\\\\\n',text)\n",
    "print(ret.group())"
   ]
  },
  {
   "cell_type": "code",
   "execution_count": 19,
   "metadata": {},
   "outputs": [
    {
     "name": "stdout",
     "output_type": "stream",
     "text": [
      "\\c\n"
     ]
    }
   ],
   "source": [
    "import re\n",
    "\n",
    "text = \"\\c\"\n",
    "ret = re.search(r'\\\\c',text) # python不用转义，但是正则表达式需要转义\n",
    "print(ret.group())"
   ]
  },
  {
   "cell_type": "code",
   "execution_count": null,
   "metadata": {},
   "outputs": [],
   "source": []
  },
  {
   "cell_type": "code",
   "execution_count": null,
   "metadata": {},
   "outputs": [],
   "source": []
  }
 ],
 "metadata": {
  "kernelspec": {
   "display_name": "Python 3",
   "language": "python",
   "name": "python3"
  },
  "language_info": {
   "codemirror_mode": {
    "name": "ipython",
    "version": 3
   },
   "file_extension": ".py",
   "mimetype": "text/x-python",
   "name": "python",
   "nbconvert_exporter": "python",
   "pygments_lexer": "ipython3",
   "version": "3.7.4"
  }
 },
 "nbformat": 4,
 "nbformat_minor": 2
}
