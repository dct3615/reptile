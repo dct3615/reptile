{
 "cells": [
  {
   "cell_type": "markdown",
   "metadata": {},
   "source": [
    "# 分组  Search"
   ]
  },
  {
   "cell_type": "code",
   "execution_count": 10,
   "metadata": {},
   "outputs": [
    {
     "name": "stdout",
     "output_type": "stream",
     "text": [
      "apple  price is $45, orange price is $23\n",
      "$45\n",
      "$23\n",
      "('$45', '$23')\n",
      "('$45', '$23')\n"
     ]
    }
   ],
   "source": [
    "import re\n",
    "\n",
    "text = \"apple  price is $45, orange price is $23\"\n",
    "ret = re.search('.*(\\$\\d+).*(\\$\\d+)',text)\n",
    "print(ret.group(0)) # 返回整体\n",
    "print(ret.group(1)) # 返回第一个圆括号（分组）\n",
    "print(ret.group(2)) # 返回第二个圆括号（分组）\n",
    "print(ret.group(1,2)) # 返回多个分组\n",
    "print(ret.groups()) # 返回所有的子分组"
   ]
  },
  {
   "cell_type": "markdown",
   "metadata": {},
   "source": [
    "# findall"
   ]
  },
  {
   "cell_type": "code",
   "execution_count": 18,
   "metadata": {},
   "outputs": [
    {
     "name": "stdout",
     "output_type": "stream",
     "text": [
      "['$45', '$23']\n"
     ]
    }
   ],
   "source": [
    "import re\n",
    "\n",
    "text = \"apple  price is $45, orange price is $23\"\n",
    "ret = re.findall('\\$\\d+',text) # 返回列表\n",
    "print(ret)"
   ]
  },
  {
   "cell_type": "markdown",
   "metadata": {},
   "source": [
    "# sub替换"
   ]
  },
  {
   "cell_type": "code",
   "execution_count": 20,
   "metadata": {},
   "outputs": [
    {
     "name": "stdout",
     "output_type": "stream",
     "text": [
      "apple  price is 0, orange price is 0\n"
     ]
    }
   ],
   "source": [
    "import re\n",
    "\n",
    "text = \"apple  price is $45, orange price is $23\"\n",
    "ret = re.sub('\\$\\d+',\"0\",text) # 1.正则表达式  2.替换后的内容 3.需要替换的文本\n",
    "print(ret)"
   ]
  },
  {
   "cell_type": "code",
   "execution_count": 21,
   "metadata": {},
   "outputs": [],
   "source": [
    "# 实战,删除标签\n",
    "html = \"\"\"\n",
    "<dd class=\"job_bt\">\n",
    "        <h3 class=\"description\">职位描述：</h3>\n",
    "        <div class=\"job-detail\">\n",
    "        职位职责：\n",
    "<br>1、负责今日头条沟通系统研发，包括但不限于即时通讯(IM)工具； \n",
    "<br>2、负责效率工具的后台开发工作，具体包括需求分析、文档撰写、设计编码、测试运维、效果追踪等工作；\n",
    "<br>3、负责高质量的设计和编码；承担重点、难点的技术攻坚；\n",
    "<br>4、参与产品讨论和开发实现。\n",
    "<br>5、主要语言为Python/Golang。\n",
    "<br>\n",
    "<br>职位要求：\n",
    "<br>1、良好的设计和编码品味，热爱写代码； \n",
    "<br>2、较好的产品意识，愿意将产品效果做为工作最重要的驱动因素； \n",
    "<br>3、掌握WEB后端开发技术: 协议、架构、存储、缓存、安全等； \n",
    "<br>4、积极乐观，认真负责，乐于协作。\n",
    "        </div>\n",
    "    </dd>\n",
    "\"\"\""
   ]
  },
  {
   "cell_type": "code",
   "execution_count": 36,
   "metadata": {},
   "outputs": [
    {
     "name": "stdout",
     "output_type": "stream",
     "text": [
      "\n",
      "\n",
      "        职位描述：\n",
      "        \n",
      "        职位职责：\n",
      "1、负责今日头条沟通系统研发，包括但不限于即时通讯(IM)工具； \n",
      "2、负责效率工具的后台开发工作，具体包括需求分析、文档撰写、设计编码、测试运维、效果追踪等工作；\n",
      "3、负责高质量的设计和编码；承担重点、难点的技术攻坚；\n",
      "4、参与产品讨论和开发实现。\n",
      "5、主要语言为Python/Golang。\n",
      "\n",
      "职位要求：\n",
      "1、良好的设计和编码品味，热爱写代码； \n",
      "2、较好的产品意识，愿意将产品效果做为工作最重要的驱动因素； \n",
      "3、掌握WEB后端开发技术: 协议、架构、存储、缓存、安全等； \n",
      "4、积极乐观，认真负责，乐于协作。\n",
      "        \n",
      "    \n",
      "\n"
     ]
    }
   ],
   "source": [
    "text = re.sub('<.+?>','',html) # +号，最少匹配一个\n",
    "print(text)"
   ]
  },
  {
   "cell_type": "markdown",
   "metadata": {},
   "source": [
    "# Split"
   ]
  },
  {
   "cell_type": "code",
   "execution_count": 35,
   "metadata": {},
   "outputs": [
    {
     "name": "stdout",
     "output_type": "stream",
     "text": [
      "['hello', 'world', 'ni', 'hao']\n"
     ]
    }
   ],
   "source": [
    "import re\n",
    "text = \"hello$world ni hao\"\n",
    "ret = re.split('[^a-zA-Z]',text) # 不是英文字母的都作为分隔符\n",
    "print(ret)"
   ]
  },
  {
   "cell_type": "markdown",
   "metadata": {},
   "source": [
    "# compile 先编译，方便多次使用"
   ]
  },
  {
   "cell_type": "code",
   "execution_count": 40,
   "metadata": {},
   "outputs": [
    {
     "name": "stdout",
     "output_type": "stream",
     "text": [
      "23.56\n"
     ]
    }
   ],
   "source": [
    "text = \"the number is 23.56\"\n",
    "pattern = re.compile(r\"\"\"\n",
    "                     \\d+     #小数点前边的数字\n",
    "                     \\.?     #小数点本身\n",
    "                     \\d*     #小数点后边的数字\n",
    "                     \"\"\",re.VERBOSE)\n",
    "ret = re.search(pattern,text)\n",
    "print(ret.group())"
   ]
  },
  {
   "cell_type": "code",
   "execution_count": null,
   "metadata": {},
   "outputs": [],
   "source": []
  },
  {
   "cell_type": "code",
   "execution_count": null,
   "metadata": {},
   "outputs": [],
   "source": []
  },
  {
   "cell_type": "code",
   "execution_count": null,
   "metadata": {},
   "outputs": [],
   "source": []
  },
  {
   "cell_type": "code",
   "execution_count": null,
   "metadata": {},
   "outputs": [],
   "source": []
  }
 ],
 "metadata": {
  "kernelspec": {
   "display_name": "Python 3",
   "language": "python",
   "name": "python3"
  },
  "language_info": {
   "codemirror_mode": {
    "name": "ipython",
    "version": 3
   },
   "file_extension": ".py",
   "mimetype": "text/x-python",
   "name": "python",
   "nbconvert_exporter": "python",
   "pygments_lexer": "ipython3",
   "version": "3.7.4"
  }
 },
 "nbformat": 4,
 "nbformat_minor": 2
}
